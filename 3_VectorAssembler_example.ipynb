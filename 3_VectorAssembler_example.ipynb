{
  "nbformat": 4,
  "nbformat_minor": 0,
  "metadata": {
    "colab": {
      "name": "3.VectorAssembler_example.ipynb",
      "provenance": [],
      "toc_visible": true,
      "authorship_tag": "ABX9TyOL5WySTIuNTxKuQvRBvUdE"
    },
    "kernelspec": {
      "name": "python3",
      "display_name": "Python 3"
    },
    "language_info": {
      "name": "python"
    }
  },
  "cells": [
    {
      "cell_type": "markdown",
      "source": [
        "# Installing required packages"
      ],
      "metadata": {
        "id": "3V0NLNoyc11B"
      }
    },
    {
      "cell_type": "code",
      "execution_count": 14,
      "metadata": {
        "id": "2z6sRo2TcsXK"
      },
      "outputs": [],
      "source": [
        "from IPython.display import clear_output\n",
        "\n",
        "!pip install --upgrade pip\n",
        "!pip install findspark\n",
        "!pip install pyspark\n",
        "\n",
        "clear_output(wait=False)"
      ]
    },
    {
      "cell_type": "markdown",
      "source": [
        "# Importing global objects"
      ],
      "metadata": {
        "id": "OY9LDAbGc5Cz"
      }
    },
    {
      "cell_type": "code",
      "source": [
        "import findspark, pyspark\n",
        "from pyspark.sql import SparkSession\n",
        "from pyspark import SparkFiles"
      ],
      "metadata": {
        "id": "c2msenKAc9NC"
      },
      "execution_count": 17,
      "outputs": []
    },
    {
      "cell_type": "markdown",
      "source": [
        "# Global Settings\n",
        "Needed for environments not Databricks"
      ],
      "metadata": {
        "id": "b2K0U_ZrdHka"
      }
    },
    {
      "cell_type": "code",
      "source": [
        "findspark.init()\n",
        "spark = SparkSession.builder.getOrCreate()"
      ],
      "metadata": {
        "id": "S2YRqBAPc9sd"
      },
      "execution_count": 18,
      "outputs": []
    },
    {
      "cell_type": "markdown",
      "source": [
        "# Reading data source"
      ],
      "metadata": {
        "id": "f2AQi2O9dMPY"
      }
    },
    {
      "cell_type": "code",
      "source": [
        "url = 'https://raw.githubusercontent.com/edsonlourenco/public_datasets/main/Carros.csv'\n",
        "spark.sparkContext.addFile(url)\n",
        "csv_cars = SparkFiles.get(\"Carros.csv\")\n",
        "df_cars = spark.read.csv(csv_cars, header=True, inferSchema=True, sep=';')"
      ],
      "metadata": {
        "id": "NVw4xhIEdNUu"
      },
      "execution_count": 27,
      "outputs": []
    },
    {
      "cell_type": "markdown",
      "source": [
        "# Checking **data**"
      ],
      "metadata": {
        "id": "8Eb5k6mcdlnv"
      }
    },
    {
      "cell_type": "code",
      "source": [
        "df_cars.orderBy('Consumo').show(truncate=False)"
      ],
      "metadata": {
        "colab": {
          "base_uri": "https://localhost:8080/"
        },
        "id": "biiv_RVkdn0o",
        "outputId": "b7cc43a9-95e0-4f36-e088-4850f1445529"
      },
      "execution_count": 37,
      "outputs": [
        {
          "output_type": "stream",
          "name": "stdout",
          "text": [
            "+-------+---------+-----------+---------------+----+-----+---------+-----------+-------+-----------+---+\n",
            "|Consumo|Cilindros|Cilindradas|RelEixoTraseiro|Peso|Tempo|TipoMotor|Transmissao|Marchas|Carburadors|HP |\n",
            "+-------+---------+-----------+---------------+----+-----+---------+-----------+-------+-----------+---+\n",
            "|15     |8        |301        |354            |357 |146  |0        |1          |5      |8          |335|\n",
            "|21     |6        |160        |39             |2875|1702 |0        |1          |4      |4          |110|\n",
            "|21     |6        |160        |39             |262 |1646 |0        |1          |4      |4          |110|\n",
            "|26     |4        |1203       |443            |214 |167  |0        |1          |5      |2          |91 |\n",
            "|104    |8        |472        |293            |525 |1798 |0        |0          |3      |4          |205|\n",
            "|104    |8        |460        |3              |5424|1782 |0        |0          |3      |4          |215|\n",
            "|133    |8        |350        |373            |384 |1541 |0        |0          |3      |4          |245|\n",
            "|143    |8        |360        |321            |357 |1584 |0        |0          |3      |4          |245|\n",
            "|147    |8        |440        |323            |5345|1742 |0        |0          |3      |4          |230|\n",
            "|152    |8        |2758       |307            |378 |18   |0        |0          |3      |3          |180|\n",
            "|152    |8        |304        |315            |3435|173  |0        |0          |3      |2          |150|\n",
            "|155    |8        |318        |276            |352 |1687 |0        |0          |3      |2          |150|\n",
            "|158    |8        |351        |422            |317 |145  |0        |1          |5      |4          |264|\n",
            "|164    |8        |2758       |307            |407 |174  |0        |0          |3      |3          |180|\n",
            "|173    |8        |2758       |307            |373 |176  |0        |0          |3      |3          |180|\n",
            "|178    |6        |1676       |392            |344 |189  |1        |0          |4      |4          |123|\n",
            "|181    |6        |225        |276            |346 |2022 |1        |0          |3      |1          |105|\n",
            "|187    |8        |360        |315            |344 |1702 |0        |0          |3      |2          |175|\n",
            "|192    |6        |1676       |392            |344 |183  |1        |0          |4      |4          |123|\n",
            "|192    |8        |400        |308            |3845|1705 |0        |0          |3      |2          |175|\n",
            "+-------+---------+-----------+---------------+----+-----+---------+-----------+-------+-----------+---+\n",
            "only showing top 20 rows\n",
            "\n"
          ]
        }
      ]
    },
    {
      "cell_type": "markdown",
      "source": [
        "## Transform VectorAssembler"
      ],
      "metadata": {
        "id": "-syc-k1lgxBd"
      }
    },
    {
      "cell_type": "markdown",
      "source": [
        "### Importing **VectorAssembler** class"
      ],
      "metadata": {
        "id": "vSJ9hcb2g7HS"
      }
    },
    {
      "cell_type": "code",
      "source": [
        "from pyspark.ml.feature import VectorAssembler"
      ],
      "metadata": {
        "id": "-PuRVANId0U3"
      },
      "execution_count": 32,
      "outputs": []
    },
    {
      "cell_type": "markdown",
      "source": [
        "### Doing transformation and creating features column"
      ],
      "metadata": {
        "id": "7KFBOfRdhGcb"
      }
    },
    {
      "cell_type": "code",
      "source": [
        "vectas = VectorAssembler(inputCols=[\n",
        "                                    \"Consumo\",\n",
        "                                    \"Cilindros\",\n",
        "                                    \"Cilindradas\",\n",
        "                                    \"RelEixoTraseiro\",\n",
        "                                    \"Peso\",\n",
        "                                    \"Tempo\",\n",
        "                                    \"TipoMotor\",\n",
        "                                    \"Transmissao\",\n",
        "                                    \"Marchas\",\n",
        "                                    \"Carburadors\"\n",
        "                                    ],\n",
        "                        outputCol=\"features\")\n",
        "\n",
        "df_cars_vet = vectas.transform(df_cars)\n",
        "df_cars_vet.orderBy('Consumo').select('features').show(truncate=True) #('caracteristicas').display()"
      ],
      "metadata": {
        "colab": {
          "base_uri": "https://localhost:8080/"
        },
        "id": "Hv2c98OhhK9_",
        "outputId": "d89ed139-5550-4a34-87c0-44657a356a86"
      },
      "execution_count": 38,
      "outputs": [
        {
          "output_type": "stream",
          "name": "stdout",
          "text": [
            "+--------------------+\n",
            "|            features|\n",
            "+--------------------+\n",
            "|[15.0,8.0,301.0,3...|\n",
            "|[21.0,6.0,160.0,3...|\n",
            "|[21.0,6.0,160.0,3...|\n",
            "|[26.0,4.0,1203.0,...|\n",
            "|[104.0,8.0,472.0,...|\n",
            "|[104.0,8.0,460.0,...|\n",
            "|[133.0,8.0,350.0,...|\n",
            "|[143.0,8.0,360.0,...|\n",
            "|[147.0,8.0,440.0,...|\n",
            "|[152.0,8.0,2758.0...|\n",
            "|[152.0,8.0,304.0,...|\n",
            "|[155.0,8.0,318.0,...|\n",
            "|[158.0,8.0,351.0,...|\n",
            "|[164.0,8.0,2758.0...|\n",
            "|[173.0,8.0,2758.0...|\n",
            "|[178.0,6.0,1676.0...|\n",
            "|[181.0,6.0,225.0,...|\n",
            "|[187.0,8.0,360.0,...|\n",
            "|[192.0,6.0,1676.0...|\n",
            "|[192.0,8.0,400.0,...|\n",
            "+--------------------+\n",
            "only showing top 20 rows\n",
            "\n"
          ]
        }
      ]
    }
  ]
}