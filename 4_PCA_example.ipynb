{
  "nbformat": 4,
  "nbformat_minor": 0,
  "metadata": {
    "colab": {
      "name": "4.PCA_example.ipynb",
      "provenance": [],
      "collapsed_sections": [],
      "authorship_tag": "ABX9TyNMzeOdQAq7uRBzGoGl4DQD"
    },
    "kernelspec": {
      "name": "python3",
      "display_name": "Python 3"
    },
    "language_info": {
      "name": "python"
    }
  },
  "cells": [
    {
      "cell_type": "markdown",
      "source": [
        "# Installing required packages"
      ],
      "metadata": {
        "id": "e6tn0fjGjVlO"
      }
    },
    {
      "cell_type": "code",
      "source": [
        "from IPython.display import clear_output\n",
        "\n",
        "!pip install --upgrade pip\n",
        "!pip install findspark\n",
        "!pip install pyspark\n",
        "\n",
        "clear_output(wait=False)"
      ],
      "metadata": {
        "id": "nHRA83BkjSrP"
      },
      "execution_count": null,
      "outputs": []
    },
    {
      "cell_type": "markdown",
      "source": [
        "# Importing global objects"
      ],
      "metadata": {
        "id": "Mo6qpmcvjXlv"
      }
    },
    {
      "cell_type": "code",
      "source": [
        "import findspark, pyspark\n",
        "from pyspark.sql import SparkSession\n",
        "from pyspark import SparkFiles"
      ],
      "metadata": {
        "id": "OFBbMPr5jZln"
      },
      "execution_count": null,
      "outputs": []
    },
    {
      "cell_type": "markdown",
      "source": [
        "# Global Settings\n",
        "Needed for environments not Databricks"
      ],
      "metadata": {
        "id": "NGeLnAOIjh_I"
      }
    },
    {
      "cell_type": "code",
      "source": [
        "findspark.init()\n",
        "spark = SparkSession.builder.getOrCreate()"
      ],
      "metadata": {
        "id": "v_PoXz_ZjilT"
      },
      "execution_count": null,
      "outputs": []
    },
    {
      "cell_type": "markdown",
      "source": [
        "# Reading data source"
      ],
      "metadata": {
        "id": "xKoECg7rjoBI"
      }
    },
    {
      "cell_type": "code",
      "source": [
        "url = 'https://raw.githubusercontent.com/edsonlourenco/public_datasets/main/Carros.csv'\n",
        "spark.sparkContext.addFile(url)\n",
        "csv_cars = SparkFiles.get(\"Carros.csv\")\n",
        "df_cars = spark.read.csv(csv_cars, header=True, inferSchema=True, sep=';')"
      ],
      "metadata": {
        "id": "QdIQHrXGjlxr"
      },
      "execution_count": null,
      "outputs": []
    },
    {
      "cell_type": "markdown",
      "source": [
        "# Checking **data**"
      ],
      "metadata": {
        "id": "MaWHa-9IkAW4"
      }
    },
    {
      "cell_type": "code",
      "source": [
        "df_cars.orderBy('Consumo').show(truncate=False)"
      ],
      "metadata": {
        "colab": {
          "base_uri": "https://localhost:8080/"
        },
        "id": "1BoYSB66kAz2",
        "outputId": "a8b3e0e2-5f01-45dc-91e7-9620ae77b2bb"
      },
      "execution_count": null,
      "outputs": [
        {
          "output_type": "stream",
          "name": "stdout",
          "text": [
            "+-------+---------+-----------+---------------+----+-----+---------+-----------+-------+-----------+---+\n",
            "|Consumo|Cilindros|Cilindradas|RelEixoTraseiro|Peso|Tempo|TipoMotor|Transmissao|Marchas|Carburadors|HP |\n",
            "+-------+---------+-----------+---------------+----+-----+---------+-----------+-------+-----------+---+\n",
            "|15     |8        |301        |354            |357 |146  |0        |1          |5      |8          |335|\n",
            "|21     |6        |160        |39             |2875|1702 |0        |1          |4      |4          |110|\n",
            "|21     |6        |160        |39             |262 |1646 |0        |1          |4      |4          |110|\n",
            "|26     |4        |1203       |443            |214 |167  |0        |1          |5      |2          |91 |\n",
            "|104    |8        |472        |293            |525 |1798 |0        |0          |3      |4          |205|\n",
            "|104    |8        |460        |3              |5424|1782 |0        |0          |3      |4          |215|\n",
            "|133    |8        |350        |373            |384 |1541 |0        |0          |3      |4          |245|\n",
            "|143    |8        |360        |321            |357 |1584 |0        |0          |3      |4          |245|\n",
            "|147    |8        |440        |323            |5345|1742 |0        |0          |3      |4          |230|\n",
            "|152    |8        |2758       |307            |378 |18   |0        |0          |3      |3          |180|\n",
            "|152    |8        |304        |315            |3435|173  |0        |0          |3      |2          |150|\n",
            "|155    |8        |318        |276            |352 |1687 |0        |0          |3      |2          |150|\n",
            "|158    |8        |351        |422            |317 |145  |0        |1          |5      |4          |264|\n",
            "|164    |8        |2758       |307            |407 |174  |0        |0          |3      |3          |180|\n",
            "|173    |8        |2758       |307            |373 |176  |0        |0          |3      |3          |180|\n",
            "|178    |6        |1676       |392            |344 |189  |1        |0          |4      |4          |123|\n",
            "|181    |6        |225        |276            |346 |2022 |1        |0          |3      |1          |105|\n",
            "|187    |8        |360        |315            |344 |1702 |0        |0          |3      |2          |175|\n",
            "|192    |6        |1676       |392            |344 |183  |1        |0          |4      |4          |123|\n",
            "|192    |8        |400        |308            |3845|1705 |0        |0          |3      |2          |175|\n",
            "+-------+---------+-----------+---------------+----+-----+---------+-----------+-------+-----------+---+\n",
            "only showing top 20 rows\n",
            "\n"
          ]
        }
      ]
    },
    {
      "cell_type": "markdown",
      "source": [
        "## Transform VectorAssembler"
      ],
      "metadata": {
        "id": "_o_Y5iSskkFN"
      }
    },
    {
      "cell_type": "markdown",
      "source": [
        "### Importing **VectorAssembler** class"
      ],
      "metadata": {
        "id": "VpK1Uw9QkobS"
      }
    },
    {
      "cell_type": "code",
      "source": [
        "from pyspark.ml.feature import VectorAssembler"
      ],
      "metadata": {
        "id": "Ep2E--eakpbx"
      },
      "execution_count": null,
      "outputs": []
    },
    {
      "cell_type": "markdown",
      "source": [
        "### Doing transformation and creating features column"
      ],
      "metadata": {
        "id": "xRkx4P8Nke05"
      }
    },
    {
      "cell_type": "code",
      "source": [
        "vectas = VectorAssembler(inputCols=[\n",
        "                                    \"Consumo\",\n",
        "                                    \"Cilindros\",\n",
        "                                    \"Cilindradas\",\n",
        "                                    \"RelEixoTraseiro\",\n",
        "                                    \"Peso\",\n",
        "                                    \"Tempo\",\n",
        "                                    \"TipoMotor\",\n",
        "                                    \"Transmissao\",\n",
        "                                    \"Marchas\",\n",
        "                                    \"Carburadors\"\n",
        "                                    ],\n",
        "                        outputCol=\"features\")\n",
        "\n",
        "df_cars_vet = vectas.transform(df_cars)\n",
        "df_cars_vet.orderBy('Consumo').select('features').show(truncate=False)"
      ],
      "metadata": {
        "colab": {
          "base_uri": "https://localhost:8080/"
        },
        "id": "tqE4ln4dkfVm",
        "outputId": "8104c9e5-c5c3-4b68-bf72-5da66a1a364f"
      },
      "execution_count": null,
      "outputs": [
        {
          "output_type": "stream",
          "name": "stdout",
          "text": [
            "+-----------------------------------------------------+\n",
            "|features                                             |\n",
            "+-----------------------------------------------------+\n",
            "|[15.0,8.0,301.0,354.0,357.0,146.0,0.0,1.0,5.0,8.0]   |\n",
            "|[21.0,6.0,160.0,39.0,2875.0,1702.0,0.0,1.0,4.0,4.0]  |\n",
            "|[21.0,6.0,160.0,39.0,262.0,1646.0,0.0,1.0,4.0,4.0]   |\n",
            "|[26.0,4.0,1203.0,443.0,214.0,167.0,0.0,1.0,5.0,2.0]  |\n",
            "|[104.0,8.0,472.0,293.0,525.0,1798.0,0.0,0.0,3.0,4.0] |\n",
            "|[104.0,8.0,460.0,3.0,5424.0,1782.0,0.0,0.0,3.0,4.0]  |\n",
            "|[133.0,8.0,350.0,373.0,384.0,1541.0,0.0,0.0,3.0,4.0] |\n",
            "|[143.0,8.0,360.0,321.0,357.0,1584.0,0.0,0.0,3.0,4.0] |\n",
            "|[147.0,8.0,440.0,323.0,5345.0,1742.0,0.0,0.0,3.0,4.0]|\n",
            "|[152.0,8.0,2758.0,307.0,378.0,18.0,0.0,0.0,3.0,3.0]  |\n",
            "|[152.0,8.0,304.0,315.0,3435.0,173.0,0.0,0.0,3.0,2.0] |\n",
            "|[155.0,8.0,318.0,276.0,352.0,1687.0,0.0,0.0,3.0,2.0] |\n",
            "|[158.0,8.0,351.0,422.0,317.0,145.0,0.0,1.0,5.0,4.0]  |\n",
            "|[164.0,8.0,2758.0,307.0,407.0,174.0,0.0,0.0,3.0,3.0] |\n",
            "|[173.0,8.0,2758.0,307.0,373.0,176.0,0.0,0.0,3.0,3.0] |\n",
            "|[178.0,6.0,1676.0,392.0,344.0,189.0,1.0,0.0,4.0,4.0] |\n",
            "|[181.0,6.0,225.0,276.0,346.0,2022.0,1.0,0.0,3.0,1.0] |\n",
            "|[187.0,8.0,360.0,315.0,344.0,1702.0,0.0,0.0,3.0,2.0] |\n",
            "|[192.0,6.0,1676.0,392.0,344.0,183.0,1.0,0.0,4.0,4.0] |\n",
            "|[192.0,8.0,400.0,308.0,3845.0,1705.0,0.0,0.0,3.0,2.0]|\n",
            "+-----------------------------------------------------+\n",
            "only showing top 20 rows\n",
            "\n"
          ]
        }
      ]
    },
    {
      "cell_type": "markdown",
      "source": [
        "### Importing **PCA** class"
      ],
      "metadata": {
        "id": "3Mfr1LhGk9T9"
      }
    },
    {
      "cell_type": "code",
      "source": [
        "from pyspark.ml.feature import PCA"
      ],
      "metadata": {
        "id": "J_QtMJZNlUgm"
      },
      "execution_count": null,
      "outputs": []
    },
    {
      "cell_type": "code",
      "source": [
        "pca = PCA(k=3, inputCol=\"features\", outputCol=\"features_pca\")\n",
        "model = pca.fit(df_cars_vet)"
      ],
      "metadata": {
        "id": "auMdwQJWlUYh"
      },
      "execution_count": null,
      "outputs": []
    },
    {
      "cell_type": "markdown",
      "source": [
        "### Transforming PCA"
      ],
      "metadata": {
        "id": "1nhn69HznVb-"
      }
    },
    {
      "cell_type": "code",
      "source": [
        "result = model.transform(df_cars_vet)"
      ],
      "metadata": {
        "id": "0dASa3U0kg0h"
      },
      "execution_count": null,
      "outputs": []
    },
    {
      "cell_type": "markdown",
      "source": [
        "### Checking **data**"
      ],
      "metadata": {
        "id": "MeublAh5nezY"
      }
    },
    {
      "cell_type": "code",
      "source": [
        "result.select('features_pca').show(truncate=False)"
      ],
      "metadata": {
        "colab": {
          "base_uri": "https://localhost:8080/"
        },
        "id": "VuDpy_rlnkNi",
        "outputId": "13fc866e-f8d2-49a8-c422-74e26b7fac14"
      },
      "execution_count": null,
      "outputs": [
        {
          "output_type": "stream",
          "name": "stdout",
          "text": [
            "+-----------------------------------------------------------+\n",
            "|features_pca                                               |\n",
            "+-----------------------------------------------------------+\n",
            "|[618.7707206779614,-937.712394997354,1231.9633529945509]   |\n",
            "|[3112.9887675342206,-161.05746385491523,1191.861991305438] |\n",
            "|[640.4959007710695,-1120.7188865110418,1320.0756315189049] |\n",
            "|[3466.0956877556678,-149.69421418298342,1401.2041780368531]|\n",
            "|[661.4577445758732,-812.4592128844115,1395.2949328316356]  |\n",
            "|[769.234367178774,-1120.4160559477316,1518.7436632279525]  |\n",
            "|[644.8369503533214,-727.9539376169615,1313.681521097935]   |\n",
            "|[9.101880661709801,1061.295403667789,1045.1710500215693]   |\n",
            "|[67.13360966508397,878.479368204501,1143.9379120496164]    |\n",
            "|[31.390504477140617,1095.3694498285743,1306.0124861906327] |\n",
            "|[32.89165922208959,1091.1521230845228,1310.0881577350906]  |\n",
            "|[-118.37273751675397,1832.771927405815,2088.6955393326043] |\n",
            "|[-150.18148405358022,1820.8730926512776,2091.1033550766124]|\n",
            "|[-184.02684680334363,1930.3231940423877,1982.8031901298746]|\n",
            "|[835.9451693278469,-748.8857628718292,1538.088953784914]   |\n",
            "|[5495.038233422231,777.0454947426246,1390.349383434824]    |\n",
            "|[5402.955892349916,772.4728618077414,1330.0311995807017]   |\n",
            "|[329.12434485652096,-796.2299760858442,1876.6906247404202] |\n",
            "|[1821.0609870602007,-252.89066020520687,1736.5182284793484]|\n",
            "|[1636.9493562944253,914.9927770681531,570.2389907310254]   |\n",
            "+-----------------------------------------------------------+\n",
            "only showing top 20 rows\n",
            "\n"
          ]
        }
      ]
    }
  ]
}