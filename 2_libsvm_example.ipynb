{
  "nbformat": 4,
  "nbformat_minor": 0,
  "metadata": {
    "colab": {
      "name": "2.libsvm_example.ipynb",
      "provenance": [],
      "authorship_tag": "ABX9TyPbRk4H1Y547ETS8yWMY3+x",
      "include_colab_link": true
    },
    "kernelspec": {
      "name": "python3",
      "display_name": "Python 3"
    },
    "language_info": {
      "name": "python"
    }
  },
  "cells": [
    {
      "cell_type": "markdown",
      "metadata": {
        "id": "view-in-github",
        "colab_type": "text"
      },
      "source": [
        "<a href=\"https://colab.research.google.com/github/edsonlourenco/pyspark_ml_examples/blob/main/2_libsvm_example.ipynb\" target=\"_parent\"><img src=\"https://colab.research.google.com/assets/colab-badge.svg\" alt=\"Open In Colab\"/></a>"
      ]
    },
    {
      "cell_type": "markdown",
      "source": [
        "# Installing required packages"
      ],
      "metadata": {
        "id": "BcM0TCZ4ZIzP"
      }
    },
    {
      "cell_type": "code",
      "execution_count": 1,
      "metadata": {
        "colab": {
          "base_uri": "https://localhost:8080/"
        },
        "id": "of5OX82BY79l",
        "outputId": "535b7667-0068-43e3-e275-3258bc463b41"
      },
      "outputs": [
        {
          "output_type": "stream",
          "name": "stdout",
          "text": [
            "Requirement already satisfied: pip in /usr/local/lib/python3.7/dist-packages (21.1.3)\n",
            "Collecting pip\n",
            "  Downloading pip-22.0.4-py3-none-any.whl (2.1 MB)\n",
            "\u001b[K     |████████████████████████████████| 2.1 MB 12.9 MB/s \n",
            "\u001b[?25hInstalling collected packages: pip\n",
            "  Attempting uninstall: pip\n",
            "    Found existing installation: pip 21.1.3\n",
            "    Uninstalling pip-21.1.3:\n",
            "      Successfully uninstalled pip-21.1.3\n",
            "Successfully installed pip-22.0.4\n",
            "Collecting findspark\n",
            "  Downloading findspark-2.0.1-py2.py3-none-any.whl (4.4 kB)\n",
            "Installing collected packages: findspark\n",
            "Successfully installed findspark-2.0.1\n",
            "\u001b[33mWARNING: Running pip as the 'root' user can result in broken permissions and conflicting behaviour with the system package manager. It is recommended to use a virtual environment instead: https://pip.pypa.io/warnings/venv\u001b[0m\u001b[33m\n",
            "\u001b[0mCollecting pyspark\n",
            "  Downloading pyspark-3.2.1.tar.gz (281.4 MB)\n",
            "\u001b[2K     \u001b[90m━━━━━━━━━━━━━━━━━━━━━━━━━━━━━━━━━━━━━━━\u001b[0m \u001b[32m281.4/281.4 MB\u001b[0m \u001b[31m5.5 MB/s\u001b[0m eta \u001b[36m0:00:00\u001b[0m\n",
            "\u001b[?25h  Preparing metadata (setup.py) ... \u001b[?25l\u001b[?25hdone\n",
            "Collecting py4j==0.10.9.3\n",
            "  Downloading py4j-0.10.9.3-py2.py3-none-any.whl (198 kB)\n",
            "\u001b[2K     \u001b[90m━━━━━━━━━━━━━━━━━━━━━━━━━━━━━━━━━━━━━━\u001b[0m \u001b[32m199.0/199.0 KB\u001b[0m \u001b[31m17.7 MB/s\u001b[0m eta \u001b[36m0:00:00\u001b[0m\n",
            "\u001b[?25hBuilding wheels for collected packages: pyspark\n",
            "  Building wheel for pyspark (setup.py) ... \u001b[?25l\u001b[?25hdone\n",
            "  Created wheel for pyspark: filename=pyspark-3.2.1-py2.py3-none-any.whl size=281853642 sha256=897f8a819253fefb8fcfe817be4758ef4514f8b1f84ef049cd3f4d61ac2d3977\n",
            "  Stored in directory: /root/.cache/pip/wheels/9f/f5/07/7cd8017084dce4e93e84e92efd1e1d5334db05f2e83bcef74f\n",
            "Successfully built pyspark\n",
            "Installing collected packages: py4j, pyspark\n",
            "Successfully installed py4j-0.10.9.3 pyspark-3.2.1\n",
            "\u001b[33mWARNING: Running pip as the 'root' user can result in broken permissions and conflicting behaviour with the system package manager. It is recommended to use a virtual environment instead: https://pip.pypa.io/warnings/venv\u001b[0m\u001b[33m\n",
            "\u001b[0m\u001b[H\u001b[2J"
          ]
        }
      ],
      "source": [
        "!pip install --upgrade pip\n",
        "!pip install findspark\n",
        "!pip install pyspark\n",
        "!clear"
      ]
    },
    {
      "cell_type": "markdown",
      "source": [
        "# Importing objects"
      ],
      "metadata": {
        "id": "LQe75YzWZT_J"
      }
    },
    {
      "cell_type": "code",
      "source": [
        "import findspark, pyspark\n",
        "from pyspark.sql import SparkSession\n",
        "from pyspark import SparkFiles"
      ],
      "metadata": {
        "id": "4AMjQVfgZRkT"
      },
      "execution_count": 2,
      "outputs": []
    },
    {
      "cell_type": "markdown",
      "source": [
        "# Global Settings\n",
        "Needed for environments not Databricks"
      ],
      "metadata": {
        "id": "pq-Ul0yBZ49y"
      }
    },
    {
      "cell_type": "code",
      "source": [
        "findspark.init()\n",
        "spark = SparkSession.builder.getOrCreate()"
      ],
      "metadata": {
        "id": "zdDPkeklZ7_b"
      },
      "execution_count": null,
      "outputs": []
    },
    {
      "cell_type": "markdown",
      "source": [
        "# Reading data source"
      ],
      "metadata": {
        "id": "p8bruL_vZlLl"
      }
    },
    {
      "cell_type": "code",
      "source": [
        "url = 'https://raw.githubusercontent.com/edsonlourenco/public_datasets/main/iris_libsvm.txt'\n",
        "spark.sparkContext.addFile(url)\n",
        "libsvm_file = SparkFiles.get(\"iris_libsvm.txt\")\n",
        "df_data = spark.read.format(\"libsvm\").option(\"numFeatures\", \"4\").load(libsvm_file)"
      ],
      "metadata": {
        "id": "2j-GIh0QZhvf"
      },
      "execution_count": 4,
      "outputs": []
    },
    {
      "cell_type": "markdown",
      "source": [
        "### Checking **data**"
      ],
      "metadata": {
        "id": "jEBynZePalkF"
      }
    },
    {
      "cell_type": "code",
      "source": [
        "df_data.show(truncate=False)"
      ],
      "metadata": {
        "colab": {
          "base_uri": "https://localhost:8080/"
        },
        "id": "bsUYWVosabyc",
        "outputId": "56eb21ce-80c9-482d-e76c-29e997ea8334"
      },
      "execution_count": 5,
      "outputs": [
        {
          "output_type": "stream",
          "name": "stdout",
          "text": [
            "+-----+-------------------------------+\n",
            "|label|features                       |\n",
            "+-----+-------------------------------+\n",
            "|0.0  |(4,[0,2,3],[5.1,1.4,0.2])      |\n",
            "|0.0  |(4,[0,1,2,3],[4.9,3.0,1.4,0.2])|\n",
            "|0.0  |(4,[0,1,2,3],[4.7,3.2,1.3,0.2])|\n",
            "|0.0  |(4,[1,2,3],[3.1,1.5,0.2])      |\n",
            "|0.0  |(4,[0,1,2,3],[5.0,3.6,1.4,0.2])|\n",
            "|0.0  |(4,[0,1,2,3],[5.4,3.9,1.7,0.4])|\n",
            "|0.0  |(4,[0,1,2,3],[4.6,3.4,1.4,0.3])|\n",
            "|0.0  |(4,[0,1,2,3],[5.0,3.4,1.5,0.2])|\n",
            "|0.0  |(4,[0,1,2,3],[4.4,2.9,1.4,0.2])|\n",
            "|0.0  |(4,[3],[0.1])                  |\n",
            "|0.0  |(4,[0,1,2,3],[5.4,3.7,1.5,0.2])|\n",
            "|0.0  |(4,[0,1,2,3],[4.8,3.4,1.6,0.2])|\n",
            "|0.0  |(4,[0,1,2,3],[4.8,3.0,1.4,0.1])|\n",
            "|0.0  |(4,[0,1,2,3],[4.3,3.0,1.1,0.1])|\n",
            "|0.0  |(4,[0,1,2,3],[5.8,4.0,1.2,0.2])|\n",
            "|0.0  |(4,[0,1,2,3],[5.7,4.4,1.5,0.4])|\n",
            "|0.0  |(4,[0,1,2,3],[5.4,3.9,1.3,0.4])|\n",
            "|0.0  |(4,[0,1,2,3],[5.1,3.5,1.4,0.3])|\n",
            "|0.0  |(4,[0,1,2,3],[5.7,3.8,1.7,0.3])|\n",
            "|0.0  |(4,[0,1,2,3],[5.1,3.8,1.5,0.3])|\n",
            "+-----+-------------------------------+\n",
            "only showing top 20 rows\n",
            "\n"
          ]
        }
      ]
    }
  ]
}