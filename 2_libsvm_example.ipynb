{
  "nbformat": 4,
  "nbformat_minor": 0,
  "metadata": {
    "colab": {
      "name": "2.libsvm_example.ipynb",
      "provenance": [],
      "authorship_tag": "ABX9TyOqt0YGpJ1R+R1ywzjuUSuS",
      "include_colab_link": true
    },
    "kernelspec": {
      "name": "python3",
      "display_name": "Python 3"
    },
    "language_info": {
      "name": "python"
    }
  },
  "cells": [
    {
      "cell_type": "markdown",
      "metadata": {
        "id": "view-in-github",
        "colab_type": "text"
      },
      "source": [
        "<a href=\"https://colab.research.google.com/github/edsonlourenco/pyspark_ml_examples/blob/main/2_libsvm_example.ipynb\" target=\"_parent\"><img src=\"https://colab.research.google.com/assets/colab-badge.svg\" alt=\"Open In Colab\"/></a>"
      ]
    },
    {
      "cell_type": "markdown",
      "source": [
        "# Installing required packages"
      ],
      "metadata": {
        "id": "BcM0TCZ4ZIzP"
      }
    },
    {
      "cell_type": "code",
      "execution_count": 8,
      "metadata": {
        "id": "of5OX82BY79l"
      },
      "outputs": [],
      "source": [
        "from IPython.display import clear_output\n",
        "\n",
        "!pip install --upgrade pip\n",
        "!pip install findspark\n",
        "!pip install pyspark\n",
        "\n",
        "clear_output(wait=False)"
      ]
    },
    {
      "cell_type": "markdown",
      "source": [
        "# Importing objects"
      ],
      "metadata": {
        "id": "LQe75YzWZT_J"
      }
    },
    {
      "cell_type": "code",
      "source": [
        "import findspark, pyspark\n",
        "from pyspark.sql import SparkSession\n",
        "from pyspark import SparkFiles"
      ],
      "metadata": {
        "id": "4AMjQVfgZRkT"
      },
      "execution_count": 2,
      "outputs": []
    },
    {
      "cell_type": "markdown",
      "source": [
        "# Global Settings\n",
        "Needed for environments not Databricks"
      ],
      "metadata": {
        "id": "pq-Ul0yBZ49y"
      }
    },
    {
      "cell_type": "code",
      "source": [
        "findspark.init()\n",
        "spark = SparkSession.builder.getOrCreate()"
      ],
      "metadata": {
        "id": "zdDPkeklZ7_b"
      },
      "execution_count": null,
      "outputs": []
    },
    {
      "cell_type": "markdown",
      "source": [
        "# Reading data source"
      ],
      "metadata": {
        "id": "p8bruL_vZlLl"
      }
    },
    {
      "cell_type": "code",
      "source": [
        "url = 'https://raw.githubusercontent.com/edsonlourenco/public_datasets/main/iris_libsvm.txt'\n",
        "spark.sparkContext.addFile(url)\n",
        "libsvm_file = SparkFiles.get(\"iris_libsvm.txt\")\n",
        "df_data = spark.read.format(\"libsvm\").option(\"numFeatures\", \"4\").load(libsvm_file)"
      ],
      "metadata": {
        "id": "2j-GIh0QZhvf"
      },
      "execution_count": 4,
      "outputs": []
    },
    {
      "cell_type": "markdown",
      "source": [
        "### Checking **data**"
      ],
      "metadata": {
        "id": "jEBynZePalkF"
      }
    },
    {
      "cell_type": "code",
      "source": [
        "df_data.show(truncate=False)"
      ],
      "metadata": {
        "colab": {
          "base_uri": "https://localhost:8080/"
        },
        "id": "bsUYWVosabyc",
        "outputId": "56eb21ce-80c9-482d-e76c-29e997ea8334"
      },
      "execution_count": 5,
      "outputs": [
        {
          "output_type": "stream",
          "name": "stdout",
          "text": [
            "+-----+-------------------------------+\n",
            "|label|features                       |\n",
            "+-----+-------------------------------+\n",
            "|0.0  |(4,[0,2,3],[5.1,1.4,0.2])      |\n",
            "|0.0  |(4,[0,1,2,3],[4.9,3.0,1.4,0.2])|\n",
            "|0.0  |(4,[0,1,2,3],[4.7,3.2,1.3,0.2])|\n",
            "|0.0  |(4,[1,2,3],[3.1,1.5,0.2])      |\n",
            "|0.0  |(4,[0,1,2,3],[5.0,3.6,1.4,0.2])|\n",
            "|0.0  |(4,[0,1,2,3],[5.4,3.9,1.7,0.4])|\n",
            "|0.0  |(4,[0,1,2,3],[4.6,3.4,1.4,0.3])|\n",
            "|0.0  |(4,[0,1,2,3],[5.0,3.4,1.5,0.2])|\n",
            "|0.0  |(4,[0,1,2,3],[4.4,2.9,1.4,0.2])|\n",
            "|0.0  |(4,[3],[0.1])                  |\n",
            "|0.0  |(4,[0,1,2,3],[5.4,3.7,1.5,0.2])|\n",
            "|0.0  |(4,[0,1,2,3],[4.8,3.4,1.6,0.2])|\n",
            "|0.0  |(4,[0,1,2,3],[4.8,3.0,1.4,0.1])|\n",
            "|0.0  |(4,[0,1,2,3],[4.3,3.0,1.1,0.1])|\n",
            "|0.0  |(4,[0,1,2,3],[5.8,4.0,1.2,0.2])|\n",
            "|0.0  |(4,[0,1,2,3],[5.7,4.4,1.5,0.4])|\n",
            "|0.0  |(4,[0,1,2,3],[5.4,3.9,1.3,0.4])|\n",
            "|0.0  |(4,[0,1,2,3],[5.1,3.5,1.4,0.3])|\n",
            "|0.0  |(4,[0,1,2,3],[5.7,3.8,1.7,0.3])|\n",
            "|0.0  |(4,[0,1,2,3],[5.1,3.8,1.5,0.3])|\n",
            "+-----+-------------------------------+\n",
            "only showing top 20 rows\n",
            "\n"
          ]
        }
      ]
    }
  ]
}