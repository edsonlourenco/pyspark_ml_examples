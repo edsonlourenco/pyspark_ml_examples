{
  "nbformat": 4,
  "nbformat_minor": 0,
  "metadata": {
    "colab": {
      "name": "7.IndexToString.ipynb",
      "provenance": [],
      "authorship_tag": "ABX9TyOz3/n1z6Hgt+KI1+QxZJT/"
    },
    "kernelspec": {
      "name": "python3",
      "display_name": "Python 3"
    },
    "language_info": {
      "name": "python"
    }
  },
  "cells": [
    {
      "cell_type": "markdown",
      "source": [
        "# Implementation for Index To String example\n"
      ],
      "metadata": {
        "id": "eWXsJ66armPc"
      }
    },
    {
      "cell_type": "markdown",
      "source": [
        "# Installing required packages\n",
        "Needed for environments not Databricks"
      ],
      "metadata": {
        "id": "x39mxyLi-Ybb"
      }
    },
    {
      "cell_type": "code",
      "source": [
        "from IPython.display import clear_output\n",
        "\n",
        "!pip install --upgrade pip\n",
        "!pip install findspark\n",
        "!pip install pyspark\n",
        "\n",
        "clear_output(wait=False)"
      ],
      "metadata": {
        "id": "G5IODBXh-Zia"
      },
      "execution_count": 2,
      "outputs": []
    },
    {
      "cell_type": "markdown",
      "source": [
        "# Importing objects"
      ],
      "metadata": {
        "id": "p_Nv046p-bYa"
      }
    },
    {
      "cell_type": "code",
      "source": [
        "import findspark, pyspark\n",
        "from pyspark.sql import SparkSession\n",
        "from pyspark import SparkFiles"
      ],
      "metadata": {
        "id": "3zkshObZ-dS_"
      },
      "execution_count": 3,
      "outputs": []
    },
    {
      "cell_type": "markdown",
      "source": [
        "# Global Settings\n",
        "Needed for environments not Databricks"
      ],
      "metadata": {
        "id": "p58qXVSp--zf"
      }
    },
    {
      "cell_type": "code",
      "source": [
        "findspark.init()\n",
        "spark = SparkSession.builder.getOrCreate()"
      ],
      "metadata": {
        "id": "hdoGZ6aa-_X5"
      },
      "execution_count": 4,
      "outputs": []
    },
    {
      "cell_type": "markdown",
      "source": [
        "# Reading data source"
      ],
      "metadata": {
        "id": "TSGT3Ytd_KeQ"
      }
    },
    {
      "cell_type": "code",
      "source": [
        "url = 'https://raw.githubusercontent.com/edsonlourenco/public_datasets/main/Churn.csv'\n",
        "spark.sparkContext.addFile(url)\n",
        "csv_churn = SparkFiles.get(\"Churn.csv\")\n",
        "df_churn = spark.read.csv(csv_churn, header=True, inferSchema=True, sep=';')"
      ],
      "metadata": {
        "id": "pxNouwa5_CPz"
      },
      "execution_count": 5,
      "outputs": []
    },
    {
      "cell_type": "markdown",
      "source": [
        "### Checking **data**"
      ],
      "metadata": {
        "id": "bt_lMuXY_PKQ"
      }
    },
    {
      "cell_type": "markdown",
      "source": [
        "## Transform StringIndexer"
      ],
      "metadata": {
        "id": "Y8wFE1gIAEWP"
      }
    },
    {
      "cell_type": "markdown",
      "source": [
        "### Importing **StringIndexer** class"
      ],
      "metadata": {
        "id": "VPMsfbqcAI81"
      }
    },
    {
      "cell_type": "code",
      "source": [
        "from pyspark.ml.feature import StringIndexer"
      ],
      "metadata": {
        "id": "_gmZO8Q7_Pqo"
      },
      "execution_count": 6,
      "outputs": []
    },
    {
      "cell_type": "markdown",
      "source": [
        "### Doing indexing to numbers\n",
        "\n",
        "\n",
        "\n",
        "\n"
      ],
      "metadata": {
        "id": "Q2Ls5uoMAdje"
      }
    },
    {
      "cell_type": "code",
      "source": [
        "df_churn.show(truncate=False)"
      ],
      "metadata": {
        "colab": {
          "base_uri": "https://localhost:8080/"
        },
        "id": "wMVcoRbNAarE",
        "outputId": "34ba17a2-7955-42d9-d947-8fa64d881be8"
      },
      "execution_count": 7,
      "outputs": [
        {
          "output_type": "stream",
          "name": "stdout",
          "text": [
            "+-----------+---------+------+---+------+--------+-------------+---------+--------------+---------------+------+\n",
            "|CreditScore|Geography|Gender|Age|Tenure|Balance |NumOfProducts|HasCrCard|IsActiveMember|EstimatedSalary|Exited|\n",
            "+-----------+---------+------+---+------+--------+-------------+---------+--------------+---------------+------+\n",
            "|619        |France   |Female|42 |2     |0       |1            |1        |1             |10134888       |1     |\n",
            "|608        |Spain    |Female|41 |1     |8380786 |1            |0        |1             |11254258       |0     |\n",
            "|502        |France   |Female|42 |8     |1596608 |3            |1        |0             |11393157       |1     |\n",
            "|699        |France   |Female|39 |1     |0       |2            |0        |0             |9382663        |0     |\n",
            "|850        |Spain    |Female|43 |2     |12551082|1            |1        |1             |790841         |0     |\n",
            "|645        |Spain    |Male  |44 |8     |11375578|2            |1        |0             |14975671       |1     |\n",
            "|822        |France   |Male  |50 |7     |0       |2            |1        |1             |100628         |0     |\n",
            "|376        |Germany  |Female|29 |4     |11504674|4            |1        |0             |11934688       |1     |\n",
            "|501        |France   |Male  |44 |4     |14205107|2            |0        |1             |749405         |0     |\n",
            "|684        |France   |Male  |27 |2     |13460388|1            |1        |1             |7172573        |0     |\n",
            "|528        |France   |Male  |31 |6     |10201672|2            |0        |0             |8018112        |0     |\n",
            "|497        |Spain    |Male  |24 |3     |0       |2            |1        |0             |7639001        |0     |\n",
            "|476        |France   |Female|34 |10    |0       |2            |1        |0             |2626098        |0     |\n",
            "|549        |France   |Female|25 |5     |0       |2            |0        |0             |19085779       |0     |\n",
            "|635        |Spain    |Female|35 |7     |0       |2            |1        |1             |6595165        |0     |\n",
            "|616        |Germany  |Male  |45 |3     |14312941|2            |0        |1             |6432726        |0     |\n",
            "|653        |Germany  |Male  |58 |1     |13260288|1            |1        |0             |509767         |1     |\n",
            "|549        |Spain    |Female|24 |9     |0       |2            |1        |1             |1440641        |0     |\n",
            "|587        |Spain    |Male  |45 |6     |0       |1            |0        |0             |15868481       |0     |\n",
            "|726        |France   |Female|24 |6     |0       |2            |1        |1             |5472403        |0     |\n",
            "+-----------+---------+------+---+------+--------+-------------+---------+--------------+---------------+------+\n",
            "only showing top 20 rows\n",
            "\n"
          ]
        }
      ]
    },
    {
      "cell_type": "code",
      "source": [
        "indice = StringIndexer(inputCol=\"Geography\", outputCol=\"indice\")\n",
        "modelo = indice.fit(df_churn)\n",
        "dadoscomindice = modelo.transform(df_churn)\n",
        "dadoscomindice.select(\"Geography\", \"indice\").show(10)"
      ],
      "metadata": {
        "colab": {
          "base_uri": "https://localhost:8080/"
        },
        "id": "03-8uv4NAlRT",
        "outputId": "60f8f1b7-8036-4218-cce4-d8e8433076d3"
      },
      "execution_count": 8,
      "outputs": [
        {
          "output_type": "stream",
          "name": "stdout",
          "text": [
            "+---------+------+\n",
            "|Geography|indice|\n",
            "+---------+------+\n",
            "|   France|   0.0|\n",
            "|    Spain|   2.0|\n",
            "|   France|   0.0|\n",
            "|   France|   0.0|\n",
            "|    Spain|   2.0|\n",
            "|    Spain|   2.0|\n",
            "|   France|   0.0|\n",
            "|  Germany|   1.0|\n",
            "|   France|   0.0|\n",
            "|   France|   0.0|\n",
            "+---------+------+\n",
            "only showing top 10 rows\n",
            "\n"
          ]
        }
      ]
    },
    {
      "cell_type": "markdown",
      "source": [
        "## Transform Index to String"
      ],
      "metadata": {
        "id": "iS8KicxvDQ3W"
      }
    },
    {
      "cell_type": "markdown",
      "source": [
        "### Importing **Index to String** class"
      ],
      "metadata": {
        "id": "0wcrRlDMDAvx"
      }
    },
    {
      "cell_type": "code",
      "source": [
        "from pyspark.ml.feature import IndexToString"
      ],
      "metadata": {
        "id": "RQYnR7OJBX0D"
      },
      "execution_count": 9,
      "outputs": []
    },
    {
      "cell_type": "markdown",
      "source": [
        "### Doing indexing to strings"
      ],
      "metadata": {
        "id": "MBecHNSVD-Fv"
      }
    },
    {
      "cell_type": "code",
      "source": [
        "retorno = IndexToString(inputCol=\"indice\", outputCol=\"categoriaoriginal\")\n",
        "convertido = retorno.transform(dadoscomindice)\n",
        "convertido.select(\"Geography\", \"indice\", \"categoriaoriginal\").show(5)"
      ],
      "metadata": {
        "colab": {
          "base_uri": "https://localhost:8080/"
        },
        "id": "68ODx24ZDW4D",
        "outputId": "89dae0ba-a8a7-4aa2-e52b-bc133f94683a"
      },
      "execution_count": 11,
      "outputs": [
        {
          "output_type": "stream",
          "name": "stdout",
          "text": [
            "+---------+------+-----------------+\n",
            "|Geography|indice|categoriaoriginal|\n",
            "+---------+------+-----------------+\n",
            "|   France|   0.0|           France|\n",
            "|    Spain|   2.0|            Spain|\n",
            "|   France|   0.0|           France|\n",
            "|   France|   0.0|           France|\n",
            "|    Spain|   2.0|            Spain|\n",
            "+---------+------+-----------------+\n",
            "only showing top 5 rows\n",
            "\n"
          ]
        }
      ]
    }
  ]
}