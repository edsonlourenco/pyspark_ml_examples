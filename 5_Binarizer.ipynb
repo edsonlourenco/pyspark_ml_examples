{
  "nbformat": 4,
  "nbformat_minor": 0,
  "metadata": {
    "colab": {
      "name": "5.Binarizer.ipynb",
      "provenance": [],
      "authorship_tag": "ABX9TyNGj6J5EfKykrlpuqemrpOT"
    },
    "kernelspec": {
      "name": "python3",
      "display_name": "Python 3"
    },
    "language_info": {
      "name": "python"
    }
  },
  "cells": [
    {
      "cell_type": "markdown",
      "source": [
        "# Implementation for Binarizer example\n"
      ],
      "metadata": {
        "id": "eWXsJ66armPc"
      }
    },
    {
      "cell_type": "markdown",
      "source": [
        "# Installing required packages\n",
        "Needed for environments not Databricks"
      ],
      "metadata": {
        "id": "BcM0TCZ4ZIzP"
      }
    },
    {
      "cell_type": "code",
      "execution_count": 2,
      "metadata": {
        "id": "of5OX82BY79l"
      },
      "outputs": [],
      "source": [
        "from IPython.display import clear_output\n",
        "\n",
        "!pip install --upgrade pip\n",
        "!pip install findspark\n",
        "!pip install pyspark\n",
        "\n",
        "clear_output(wait=False)"
      ]
    },
    {
      "cell_type": "markdown",
      "source": [
        "# Importing objects"
      ],
      "metadata": {
        "id": "LQe75YzWZT_J"
      }
    },
    {
      "cell_type": "code",
      "source": [
        "import findspark, pyspark\n",
        "from pyspark.sql import SparkSession\n",
        "from pyspark import SparkFiles"
      ],
      "metadata": {
        "id": "4AMjQVfgZRkT"
      },
      "execution_count": 16,
      "outputs": []
    },
    {
      "cell_type": "markdown",
      "source": [
        "# Global Settings\n",
        "Needed for environments not Databricks"
      ],
      "metadata": {
        "id": "pq-Ul0yBZ49y"
      }
    },
    {
      "cell_type": "code",
      "source": [
        "findspark.init()\n",
        "spark = SparkSession.builder.getOrCreate()"
      ],
      "metadata": {
        "id": "zdDPkeklZ7_b"
      },
      "execution_count": 17,
      "outputs": []
    },
    {
      "cell_type": "markdown",
      "source": [
        "# Reading data source"
      ],
      "metadata": {
        "id": "p8bruL_vZlLl"
      }
    },
    {
      "cell_type": "code",
      "source": [
        "url = 'https://raw.githubusercontent.com/edsonlourenco/public_datasets/main/iris.csv'\n",
        "spark.sparkContext.addFile(url)\n",
        "csv_iris = SparkFiles.get(\"iris.csv\")\n",
        "df_iris = spark.read.csv(csv_iris, header=True, inferSchema=True, sep=',')"
      ],
      "metadata": {
        "id": "2j-GIh0QZhvf"
      },
      "execution_count": 18,
      "outputs": []
    },
    {
      "cell_type": "markdown",
      "source": [
        "### Checking **data**"
      ],
      "metadata": {
        "id": "jEBynZePalkF"
      }
    },
    {
      "cell_type": "code",
      "source": [
        "df_iris.show(truncate=False)"
      ],
      "metadata": {
        "colab": {
          "base_uri": "https://localhost:8080/"
        },
        "id": "bsUYWVosabyc",
        "outputId": "090e574a-3f91-4722-bf09-4c319f6237d9"
      },
      "execution_count": 19,
      "outputs": [
        {
          "output_type": "stream",
          "name": "stdout",
          "text": [
            "+-----------+----------+-----------+----------+-----------+\n",
            "|sepallength|sepalwidth|petallength|petalwidth|class      |\n",
            "+-----------+----------+-----------+----------+-----------+\n",
            "|5.1        |3.5       |1.4        |0.2       |Iris-setosa|\n",
            "|4.9        |3.0       |1.4        |0.2       |Iris-setosa|\n",
            "|4.7        |3.2       |1.3        |0.2       |Iris-setosa|\n",
            "|4.6        |3.1       |1.5        |0.2       |Iris-setosa|\n",
            "|5.0        |3.6       |1.4        |0.2       |Iris-setosa|\n",
            "|5.4        |3.9       |1.7        |0.4       |Iris-setosa|\n",
            "|4.6        |3.4       |1.4        |0.3       |Iris-setosa|\n",
            "|5.0        |3.4       |1.5        |0.2       |Iris-setosa|\n",
            "|4.4        |2.9       |1.4        |0.2       |Iris-setosa|\n",
            "|4.9        |3.1       |1.5        |0.1       |Iris-setosa|\n",
            "|5.4        |3.7       |1.5        |0.2       |Iris-setosa|\n",
            "|4.8        |3.4       |1.6        |0.2       |Iris-setosa|\n",
            "|4.8        |3.0       |1.4        |0.1       |Iris-setosa|\n",
            "|4.3        |3.0       |1.1        |0.1       |Iris-setosa|\n",
            "|5.8        |4.0       |1.2        |0.2       |Iris-setosa|\n",
            "|5.7        |4.4       |1.5        |0.4       |Iris-setosa|\n",
            "|5.4        |3.9       |1.3        |0.4       |Iris-setosa|\n",
            "|5.1        |3.5       |1.4        |0.3       |Iris-setosa|\n",
            "|5.7        |3.8       |1.7        |0.3       |Iris-setosa|\n",
            "|5.1        |3.8       |1.5        |0.3       |Iris-setosa|\n",
            "+-----------+----------+-----------+----------+-----------+\n",
            "only showing top 20 rows\n",
            "\n"
          ]
        }
      ]
    },
    {
      "cell_type": "markdown",
      "source": [
        "## Transform Binarizer"
      ],
      "metadata": {
        "id": "-syc-k1lgxBd"
      }
    },
    {
      "cell_type": "markdown",
      "source": [
        "### Importing **Binarizer** class"
      ],
      "metadata": {
        "id": "nhQirylNsyie"
      }
    },
    {
      "cell_type": "code",
      "source": [
        "from pyspark.ml.feature import Binarizer"
      ],
      "metadata": {
        "id": "Vq7Y4-dXs7jf"
      },
      "execution_count": 20,
      "outputs": []
    },
    {
      "cell_type": "markdown",
      "source": [
        "### Doing binarization\n",
        "\n",
        "\n",
        "\n",
        "\n"
      ],
      "metadata": {
        "id": "xd-BjAS1tgbU"
      }
    },
    {
      "cell_type": "code",
      "source": [
        "binarizer = Binarizer(threshold=5, inputCol=\"sepallength\", outputCol=\"sepallength_bin\")"
      ],
      "metadata": {
        "id": "m6hNbfeFso-V"
      },
      "execution_count": 21,
      "outputs": []
    },
    {
      "cell_type": "code",
      "source": [
        "df_iris_bin = binarizer.transform(df_iris)\n",
        "df_iris_bin.show(truncate=False)"
      ],
      "metadata": {
        "colab": {
          "base_uri": "https://localhost:8080/"
        },
        "id": "eXJEpP3btyh2",
        "outputId": "7c6f7f34-ed5d-4ef0-a478-cac9186e401d"
      },
      "execution_count": 22,
      "outputs": [
        {
          "output_type": "stream",
          "name": "stdout",
          "text": [
            "+-----------+----------+-----------+----------+-----------+---------------+\n",
            "|sepallength|sepalwidth|petallength|petalwidth|class      |sepallength_bin|\n",
            "+-----------+----------+-----------+----------+-----------+---------------+\n",
            "|5.1        |3.5       |1.4        |0.2       |Iris-setosa|1.0            |\n",
            "|4.9        |3.0       |1.4        |0.2       |Iris-setosa|0.0            |\n",
            "|4.7        |3.2       |1.3        |0.2       |Iris-setosa|0.0            |\n",
            "|4.6        |3.1       |1.5        |0.2       |Iris-setosa|0.0            |\n",
            "|5.0        |3.6       |1.4        |0.2       |Iris-setosa|0.0            |\n",
            "|5.4        |3.9       |1.7        |0.4       |Iris-setosa|1.0            |\n",
            "|4.6        |3.4       |1.4        |0.3       |Iris-setosa|0.0            |\n",
            "|5.0        |3.4       |1.5        |0.2       |Iris-setosa|0.0            |\n",
            "|4.4        |2.9       |1.4        |0.2       |Iris-setosa|0.0            |\n",
            "|4.9        |3.1       |1.5        |0.1       |Iris-setosa|0.0            |\n",
            "|5.4        |3.7       |1.5        |0.2       |Iris-setosa|1.0            |\n",
            "|4.8        |3.4       |1.6        |0.2       |Iris-setosa|0.0            |\n",
            "|4.8        |3.0       |1.4        |0.1       |Iris-setosa|0.0            |\n",
            "|4.3        |3.0       |1.1        |0.1       |Iris-setosa|0.0            |\n",
            "|5.8        |4.0       |1.2        |0.2       |Iris-setosa|1.0            |\n",
            "|5.7        |4.4       |1.5        |0.4       |Iris-setosa|1.0            |\n",
            "|5.4        |3.9       |1.3        |0.4       |Iris-setosa|1.0            |\n",
            "|5.1        |3.5       |1.4        |0.3       |Iris-setosa|1.0            |\n",
            "|5.7        |3.8       |1.7        |0.3       |Iris-setosa|1.0            |\n",
            "|5.1        |3.8       |1.5        |0.3       |Iris-setosa|1.0            |\n",
            "+-----------+----------+-----------+----------+-----------+---------------+\n",
            "only showing top 20 rows\n",
            "\n"
          ]
        }
      ]
    }
  ]
}